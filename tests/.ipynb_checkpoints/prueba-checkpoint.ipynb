{
 "cells": [
  {
   "cell_type": "code",
   "execution_count": 7,
   "id": "moderate-cargo",
   "metadata": {},
   "outputs": [],
   "source": [
    "## celda de dependencias\n",
    "from numeric_methods.derivadas import firstDifFProg,firstDifFReg,firstDifFCent\n",
    "import numpy as np\n",
    "import matplotlib.pyplot as plt\n",
    "from celluloid import Camera"
   ]
  },
  {
   "cell_type": "code",
   "execution_count": 8,
   "id": "collectible-settlement",
   "metadata": {
    "scrolled": true
   },
   "outputs": [
    {
     "name": "stdout",
     "output_type": "stream",
     "text": [
      "[9, 4, 8, 2, 7, 6, 1, 2, 2, 2]\n",
      "[-10.0, 8.0, -12.0, 10.0, -2.0, -10.0, 2.0, 0.0, 0.0, None]\n",
      "[None, -10.0, 8.0, -12.0, 10.0, -2.0, -10.0, 2.0, 0.0, 0.0]\n",
      "[None, -1.0, -2.0, -1.0, 4.0, -6.0, -4.0, 1.0, 0.0, None]\n"
     ]
    }
   ],
   "source": [
    "h=0.5\n",
    "fun=[9,4,8,2,7,6,1,2,2,2]\n",
    "#fun=[0,1,0,1,0,1,0,1,0,1,0]\n",
    "print(fun)\n",
    "d1fun=firstDifFProg(h,fun) # derivadas diff adelantadas\n",
    "d2fun=firstDifFReg(h,fun) # derivadas diff retrasadas\n",
    "d3fun=firstDifFCent(h,fun) # derivadas diff centradas\n",
    "print(d1fun)\n",
    "print(d2fun)\n",
    "print(d3fun)"
   ]
  },
  {
   "cell_type": "code",
   "execution_count": 9,
   "id": "bigger-requirement",
   "metadata": {},
   "outputs": [],
   "source": [
    "## Función que sirve para graficar un segmento tangente (una recta tangete) que nos permita visualizar el valor de la derivada en un punto de nuestra función\n",
    "def recTan(i):\n",
    "    ax.plot(x[i],fun[i],'o',color='red') # se dibuja el punto evaluado\n",
    "    lr=(finXDat-iniXDat)*0.1 # largo de extremos x de la recta tangente, proporcional al numero de datos x\n",
    "    xrec=[x[i]-lr,x[i],x[i]+lr]\n",
    "    yrec=[-d3fun[i]*(xrec[1]-xrec[0])+fun[i]] # punto \"y\" trasero de la recta\n",
    "    yrec.append(fun[i]) # punto evaluado\n",
    "    yrec.append(d3fun[i]*(xrec[2]-xrec[1])+fun[i]) # punto \"y\" delantero de la recta\n",
    "    ax.plot(xrec,yrec, color='red') # se dibuja la recta pendiente del punto evaluad"
   ]
  },
  {
   "cell_type": "code",
   "execution_count": 10,
   "id": "intensive-perth",
   "metadata": {},
   "outputs": [
    {
     "data": {
      "image/png": "[encoded data removed]",
      "text/plain": [
       "<Figure size 432x288 with 1 Axes>"
      ]
     },
     "metadata": {
      "needs_background": "light"
     },
     "output_type": "display_data"
    }
   ],
   "source": [
    "## sección necesaria para cuando se tiene solo el avance h y no un vector independiente x.\n",
    "iniXDat=0\n",
    "finXDat=h*(len(fun)-1)+iniXDat\n",
    "x=np.linspace(iniXDat,finXDat,len(fun))\n",
    "##\n",
    "\n",
    "fig, ax= plt.subplots()\n",
    "ax.plot(x,fun)\n",
    "ymax=max(fun) # valor maximo de la función primitiva\n",
    "ymin=min(fun) # valor minimo de la función primitiva\n",
    "yext=(ymax-ymin)*0.05 # el extra que le dare a cada lado de y para mejorar la visualización\n",
    "ax.set_ylim(ymin+yext,ymax-yext) # define el tamaño y de la grafica\n",
    "recTan(4) # llama a la función que crea la recta tangente en un punto\n",
    "plt.show()"
   ]
  },
  {
   "cell_type": "code",
   "execution_count": 15,
   "id": "valid-hometown",
   "metadata": {},
   "outputs": [],
   "source": [
    "x,h=np.linspace(0,10,100,retstep=True)\n",
    "fun=(np.e**-x)*2*np.sin(x)\n",
    "d3fun=firstDifFCent(h,fun) # derivadas diff centradas\n",
    "\n",
    "## sección necesaria para cuando se tiene solo el avance h y no un vector independiente x.\n",
    "iniXDat=0\n",
    "finXDat=h*(len(fun)-1)+iniXDat\n",
    "x=np.linspace(iniXDat,finXDat,len(fun))\n",
    "##\n",
    "\n",
    "fig, ax= plt.subplots()\n",
    "ymax=max(fun) # valor maximo de la función primitiva\n",
    "ymin=min(fun) # valor minimo de la función primitiva\n",
    "yext=(ymax-ymin)*0.1 # el extra que le dare a cada lado de y para mejorar la visualización\n",
    "ax.set_ylim(ymin-yext,ymax+yext) # define el tamaño y de la grafica\n",
    "camera = Camera(fig)\n",
    "t=1\n",
    "while t<len(fun)-1:\n",
    "    ax.plot(x,fun,color='blue')\n",
    "    recTan(t) # llama a la función que crea la recta tangente en un punto\n",
    "    camera.snap() # esta línea guarda una imagen de la figura en este paso\n",
    "    t+=1\n",
    "animation = camera.animate()\n",
    "animation.save('derCentradas.gif',writer='ffmpeg',fps=10)\n",
    "plt.close()"
   ]
  },
  {
   "cell_type": "markdown",
   "id": "acknowledged-hostel",
   "metadata": {},
   "source": [
    "<img src=\"derCentradas.gif\">"
   ]
  }
 ],
 "metadata": {
  "kernelspec": {
   "display_name": "Python 3",
   "language": "python",
   "name": "python3"
  },
  "language_info": {
   "codemirror_mode": {
    "name": "ipython",
    "version": 3
   },
   "file_extension": ".py",
   "mimetype": "text/x-python",
   "name": "python",
   "nbconvert_exporter": "python",
   "pygments_lexer": "ipython3",
   "version": "3.9.2"
  }
 },
 "nbformat": 4,
 "nbformat_minor": 5
}
