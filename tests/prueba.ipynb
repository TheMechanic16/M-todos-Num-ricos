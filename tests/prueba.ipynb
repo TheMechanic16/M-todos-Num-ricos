{
 "cells": [
  {
   "cell_type": "code",
   "execution_count": 1,
   "id": "collectible-settlement",
   "metadata": {},
   "outputs": [
    {
     "name": "stdout",
     "output_type": "stream",
     "text": [
      "[9, 4, 8, 2, 4, 6, 1, 0, 2, 2]\n",
      "[-10.0, 8.0, -12.0, 4.0, 4.0, -10.0, -2.0, 4.0, 0.0]\n",
      "[-10.0, 8.0, -12.0, 4.0, 4.0, -10.0, -2.0, 4.0, 0.0]\n",
      "[-1.0, -2.0, -4.0, 4.0, -3.0, -6.0, 1.0, 2.0]\n"
     ]
    }
   ],
   "source": [
    "from numericmethods.derivadas import firstDifFProg,firstDifFReg,firstDifFCent\n",
    "h=0.5\n",
    "fun=[9,4,8,2,4,6,1,0,2,2]\n",
    "print(fun)\n",
    "print(firstDifFProg(h,fun))\n",
    "print(firstDifFReg(h,fun))\n",
    "print(firstDifFCent(h,fun))"
   ]
  }
 ],
 "metadata": {
  "kernelspec": {
   "display_name": "Python 3",
   "language": "python",
   "name": "python3"
  },
  "language_info": {
   "codemirror_mode": {
    "name": "ipython",
    "version": 3
   },
   "file_extension": ".py",
   "mimetype": "text/x-python",
   "name": "python",
   "nbconvert_exporter": "python",
   "pygments_lexer": "ipython3",
   "version": "3.9.2"
  }
 },
 "nbformat": 4,
 "nbformat_minor": 5
}
